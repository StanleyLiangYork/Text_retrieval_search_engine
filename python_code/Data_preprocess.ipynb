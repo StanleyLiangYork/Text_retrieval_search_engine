{
  "nbformat": 4,
  "nbformat_minor": 0,
  "metadata": {
    "colab": {
      "name": "Data_preprocess.ipynb",
      "provenance": [],
      "collapsed_sections": []
    },
    "kernelspec": {
      "name": "python3",
      "display_name": "Python 3"
    },
    "language_info": {
      "name": "python"
    }
  },
  "cells": [
    {
      "cell_type": "markdown",
      "metadata": {
        "id": "WLYspcProAH6"
      },
      "source": [
        "This tutorial is a walk-through for the text preprocessing for Natural Language Processing (NLP) problems. NLP deals with the extraction for the interested information from the raw text. Currently multiple types of business organizations need to handle with huge amount of text data like customers review, tweets,news letters,emails, etc. and get much more information from text with NLP and machine learning."
      ]
    },
    {
      "cell_type": "markdown",
      "metadata": {
        "id": "9UfFlIR3MYee"
      },
      "source": [
        "Text preprocessing is the first step to clean the text data and and to prepare text data before encoding.\n",
        "\n",
        " We will use the Amazon Reviews dataset from [Kaggle](https://https://www.kaggle.com/PromptCloudHQ/amazon-reviews-unlocked-mobile-phones): Unlocked Mobile Phones dataset in this tutorial"
      ]
    },
    {
      "cell_type": "code",
      "metadata": {
        "colab": {
          "base_uri": "https://localhost:8080/"
        },
        "id": "AhP4Nlfem5OF",
        "outputId": "f323e4d8-008f-4695-e5ed-07a80d9f60ef"
      },
      "source": [
        "import os\n",
        "\n",
        "if not os.path.exists('Amazon_Unlocked_Mobile.csv'):\n",
        "    !gsutil cp gs://pet-detect-239118/text_retrieval/Amazon_Unlocked_Mobile.csv ./Amazon_Unlocked_Mobile.csv"
      ],
      "execution_count": 3,
      "outputs": [
        {
          "output_type": "stream",
          "name": "stdout",
          "text": [
            "Copying gs://pet-detect-239118/text_retrieval/Amazon_Unlocked_Mobile.csv...\n",
            "- [1 files][125.8 MiB/125.8 MiB]                                                \n",
            "Operation completed over 1 objects/125.8 MiB.                                    \n"
          ]
        }
      ]
    },
    {
      "cell_type": "markdown",
      "metadata": {
        "id": "IpK0tYBmOBIW"
      },
      "source": [
        "Import the dataset & Libraries"
      ]
    },
    {
      "cell_type": "code",
      "metadata": {
        "colab": {
          "base_uri": "https://localhost:8080/",
          "height": 141
        },
        "id": "vQ6T8cwsN85f",
        "outputId": "0a22c377-475d-426e-8427-1eef46397436"
      },
      "source": [
        "import numpy as np\n",
        "import pandas as pd\n",
        "import matplotlib.pyplot as plt\n",
        "import seaborn as sns\n",
        "\n",
        "# load the dataset\n",
        "dataset = pd.read_csv('Amazon_Unlocked_Mobile.csv')\n",
        "dataset.head(3)"
      ],
      "execution_count": 4,
      "outputs": [
        {
          "output_type": "execute_result",
          "data": {
            "text/html": [
              "<div>\n",
              "<style scoped>\n",
              "    .dataframe tbody tr th:only-of-type {\n",
              "        vertical-align: middle;\n",
              "    }\n",
              "\n",
              "    .dataframe tbody tr th {\n",
              "        vertical-align: top;\n",
              "    }\n",
              "\n",
              "    .dataframe thead th {\n",
              "        text-align: right;\n",
              "    }\n",
              "</style>\n",
              "<table border=\"1\" class=\"dataframe\">\n",
              "  <thead>\n",
              "    <tr style=\"text-align: right;\">\n",
              "      <th></th>\n",
              "      <th>Product Name</th>\n",
              "      <th>Brand Name</th>\n",
              "      <th>Price</th>\n",
              "      <th>Rating</th>\n",
              "      <th>Reviews</th>\n",
              "      <th>Review Votes</th>\n",
              "    </tr>\n",
              "  </thead>\n",
              "  <tbody>\n",
              "    <tr>\n",
              "      <th>0</th>\n",
              "      <td>\"CLEAR CLEAN ESN\" Sprint EPIC 4G Galaxy SPH-D7...</td>\n",
              "      <td>Samsung</td>\n",
              "      <td>199.99</td>\n",
              "      <td>5</td>\n",
              "      <td>I feel so LUCKY to have found this used (phone...</td>\n",
              "      <td>1.0</td>\n",
              "    </tr>\n",
              "    <tr>\n",
              "      <th>1</th>\n",
              "      <td>\"CLEAR CLEAN ESN\" Sprint EPIC 4G Galaxy SPH-D7...</td>\n",
              "      <td>Samsung</td>\n",
              "      <td>199.99</td>\n",
              "      <td>4</td>\n",
              "      <td>nice phone, nice up grade from my pantach revu...</td>\n",
              "      <td>0.0</td>\n",
              "    </tr>\n",
              "    <tr>\n",
              "      <th>2</th>\n",
              "      <td>\"CLEAR CLEAN ESN\" Sprint EPIC 4G Galaxy SPH-D7...</td>\n",
              "      <td>Samsung</td>\n",
              "      <td>199.99</td>\n",
              "      <td>5</td>\n",
              "      <td>Very pleased</td>\n",
              "      <td>0.0</td>\n",
              "    </tr>\n",
              "  </tbody>\n",
              "</table>\n",
              "</div>"
            ],
            "text/plain": [
              "                                        Product Name  ... Review Votes\n",
              "0  \"CLEAR CLEAN ESN\" Sprint EPIC 4G Galaxy SPH-D7...  ...          1.0\n",
              "1  \"CLEAR CLEAN ESN\" Sprint EPIC 4G Galaxy SPH-D7...  ...          0.0\n",
              "2  \"CLEAR CLEAN ESN\" Sprint EPIC 4G Galaxy SPH-D7...  ...          0.0\n",
              "\n",
              "[3 rows x 6 columns]"
            ]
          },
          "metadata": {},
          "execution_count": 4
        }
      ]
    },
    {
      "cell_type": "markdown",
      "metadata": {
        "id": "aeRGYsB_QLDv"
      },
      "source": [
        "Handling missing value"
      ]
    },
    {
      "cell_type": "code",
      "metadata": {
        "colab": {
          "base_uri": "https://localhost:8080/"
        },
        "id": "wpLqPSnhOZ5P",
        "outputId": "4713f284-944b-4aea-c60b-30bdc8dcfa4a"
      },
      "source": [
        "dataset.isna().sum()"
      ],
      "execution_count": 7,
      "outputs": [
        {
          "output_type": "execute_result",
          "data": {
            "text/plain": [
              "Product Name        0\n",
              "Brand Name      65171\n",
              "Price            5933\n",
              "Rating              0\n",
              "Reviews            62\n",
              "Review Votes    12296\n",
              "dtype: int64"
            ]
          },
          "metadata": {},
          "execution_count": 7
        }
      ]
    },
    {
      "cell_type": "code",
      "metadata": {
        "colab": {
          "base_uri": "https://localhost:8080/"
        },
        "id": "ehUCUGV0nZqP",
        "outputId": "162d7233-53aa-4f8e-82f8-5147d09d1b0d"
      },
      "source": [
        "dataset = dataset[['Rating', 'Reviews']]\n",
        "dataset.dropna(inplace=True)\n",
        "dataset.isna().sum()"
      ],
      "execution_count": 9,
      "outputs": [
        {
          "output_type": "execute_result",
          "data": {
            "text/plain": [
              "Rating     0\n",
              "Reviews    0\n",
              "dtype: int64"
            ]
          },
          "metadata": {},
          "execution_count": 9
        }
      ]
    },
    {
      "cell_type": "markdown",
      "metadata": {
        "id": "c0trQb6inBWb"
      },
      "source": [
        "Subset the columns that we are interested in\n",
        "\n",
        "We want to use the text to predict if the review is positive (for 4 & 5 Rating), negative (for 1 & 2 Rating), or neutral(for 3 Rating)"
      ]
    },
    {
      "cell_type": "code",
      "metadata": {
        "id": "rhudWzhUQgZ4"
      },
      "source": [
        "def addLabel(rating):\n",
        "  if rating >=4:\n",
        "    return 'Positive'\n",
        "  if rating <=2:\n",
        "    return 'Negative'\n",
        "  else:\n",
        "    return 'Neutral'"
      ],
      "execution_count": 10,
      "outputs": []
    },
    {
      "cell_type": "code",
      "metadata": {
        "id": "1-nH8FnY9xEX"
      },
      "source": [
        "dataset['Label'] = dataset['Rating'].apply(addLabel)"
      ],
      "execution_count": 11,
      "outputs": []
    },
    {
      "cell_type": "code",
      "metadata": {
        "colab": {
          "base_uri": "https://localhost:8080/",
          "height": 294
        },
        "id": "N2vLD77k98Xa",
        "outputId": "069988b2-f8f8-4066-a2fb-8cf6edea81ae"
      },
      "source": [
        "dataset.head(8)"
      ],
      "execution_count": 13,
      "outputs": [
        {
          "output_type": "execute_result",
          "data": {
            "text/html": [
              "<div>\n",
              "<style scoped>\n",
              "    .dataframe tbody tr th:only-of-type {\n",
              "        vertical-align: middle;\n",
              "    }\n",
              "\n",
              "    .dataframe tbody tr th {\n",
              "        vertical-align: top;\n",
              "    }\n",
              "\n",
              "    .dataframe thead th {\n",
              "        text-align: right;\n",
              "    }\n",
              "</style>\n",
              "<table border=\"1\" class=\"dataframe\">\n",
              "  <thead>\n",
              "    <tr style=\"text-align: right;\">\n",
              "      <th></th>\n",
              "      <th>Rating</th>\n",
              "      <th>Reviews</th>\n",
              "      <th>Label</th>\n",
              "    </tr>\n",
              "  </thead>\n",
              "  <tbody>\n",
              "    <tr>\n",
              "      <th>0</th>\n",
              "      <td>5</td>\n",
              "      <td>I feel so LUCKY to have found this used (phone...</td>\n",
              "      <td>Positive</td>\n",
              "    </tr>\n",
              "    <tr>\n",
              "      <th>1</th>\n",
              "      <td>4</td>\n",
              "      <td>nice phone, nice up grade from my pantach revu...</td>\n",
              "      <td>Positive</td>\n",
              "    </tr>\n",
              "    <tr>\n",
              "      <th>2</th>\n",
              "      <td>5</td>\n",
              "      <td>Very pleased</td>\n",
              "      <td>Positive</td>\n",
              "    </tr>\n",
              "    <tr>\n",
              "      <th>3</th>\n",
              "      <td>4</td>\n",
              "      <td>It works good but it goes slow sometimes but i...</td>\n",
              "      <td>Positive</td>\n",
              "    </tr>\n",
              "    <tr>\n",
              "      <th>4</th>\n",
              "      <td>4</td>\n",
              "      <td>Great phone to replace my lost phone. The only...</td>\n",
              "      <td>Positive</td>\n",
              "    </tr>\n",
              "    <tr>\n",
              "      <th>5</th>\n",
              "      <td>1</td>\n",
              "      <td>I already had a phone with problems... I know ...</td>\n",
              "      <td>Negative</td>\n",
              "    </tr>\n",
              "    <tr>\n",
              "      <th>6</th>\n",
              "      <td>2</td>\n",
              "      <td>The charging port was loose. I got that solder...</td>\n",
              "      <td>Negative</td>\n",
              "    </tr>\n",
              "    <tr>\n",
              "      <th>7</th>\n",
              "      <td>2</td>\n",
              "      <td>Phone looks good but wouldn't stay charged, ha...</td>\n",
              "      <td>Negative</td>\n",
              "    </tr>\n",
              "  </tbody>\n",
              "</table>\n",
              "</div>"
            ],
            "text/plain": [
              "   Rating                                            Reviews     Label\n",
              "0       5  I feel so LUCKY to have found this used (phone...  Positive\n",
              "1       4  nice phone, nice up grade from my pantach revu...  Positive\n",
              "2       5                                       Very pleased  Positive\n",
              "3       4  It works good but it goes slow sometimes but i...  Positive\n",
              "4       4  Great phone to replace my lost phone. The only...  Positive\n",
              "5       1  I already had a phone with problems... I know ...  Negative\n",
              "6       2  The charging port was loose. I got that solder...  Negative\n",
              "7       2  Phone looks good but wouldn't stay charged, ha...  Negative"
            ]
          },
          "metadata": {},
          "execution_count": 13
        }
      ]
    },
    {
      "cell_type": "markdown",
      "metadata": {
        "id": "aJRX75BA-LLX"
      },
      "source": [
        "**Data Cleaning And Text Preprocessing**\n",
        "\n",
        "I. Removing URL.\n",
        "\n",
        "II. Removing all irrelevant characters (Numbers and Punctuation).\n",
        "\n",
        "III. Convert all characters into lowercase.\n",
        "\n",
        "IV. Tokenization\n",
        "\n",
        "V. Removing Stopwords\n",
        "\n",
        "VI. Stemming and Lemmatization\n",
        "\n",
        "VII. Remove the words having length <= 2\n",
        "\n",
        "VIII. Convert the list of tokens into back to the string"
      ]
    },
    {
      "cell_type": "code",
      "metadata": {
        "colab": {
          "base_uri": "https://localhost:8080/",
          "height": 71
        },
        "id": "JIMFTkdKA6gB",
        "outputId": "a10f846c-5c35-412e-ad27-e5cb74cac15b"
      },
      "source": [
        "dataset['Reviews'].iloc[2430]"
      ],
      "execution_count": 54,
      "outputs": [
        {
          "output_type": "execute_result",
          "data": {
            "application/vnd.google.colaboratory.intrinsic+json": {
              "type": "string"
            },
            "text/plain": [
              "\"What a steal at $250! This phone definitely holds its own against the 2015 Flagship phones.View some sample pictures from the rear camera. You can see daylight pictures are nice but low-light pictures are noisy.Pros:Price and valueGreat screenLoud speakersLooks very niceCons:Camera doesn't hold up in low light situationsNo wireless chargingOccasional lag due to mid end processorSlippery phoneFind my video review here: https://youtu.be/JU-dDjKi4Ig\""
            ]
          },
          "metadata": {},
          "execution_count": 54
        }
      ]
    },
    {
      "cell_type": "markdown",
      "metadata": {
        "id": "WjGAzBWkFEAw"
      },
      "source": [
        "I.Remove URL"
      ]
    },
    {
      "cell_type": "code",
      "metadata": {
        "colab": {
          "base_uri": "https://localhost:8080/",
          "height": 53
        },
        "id": "ceUZ4c2QCkpu",
        "outputId": "19ed3d75-e10d-4c5a-e344-9a9a62cbb711"
      },
      "source": [
        "import re\n",
        "\n",
        "def removeURL(text):\n",
        "  return re.sub(r'http\\S+', '', text)\n",
        "\n",
        "dataset['CleanReview'] = dataset['Reviews'].apply(removeURL)\n",
        "\n",
        "dataset['CleanReview'].iloc[2430]"
      ],
      "execution_count": 56,
      "outputs": [
        {
          "output_type": "execute_result",
          "data": {
            "application/vnd.google.colaboratory.intrinsic+json": {
              "type": "string"
            },
            "text/plain": [
              "\"What a steal at $250! This phone definitely holds its own against the 2015 Flagship phones.View some sample pictures from the rear camera. You can see daylight pictures are nice but low-light pictures are noisy.Pros:Price and valueGreat screenLoud speakersLooks very niceCons:Camera doesn't hold up in low light situationsNo wireless chargingOccasional lag due to mid end processorSlippery phoneFind my video review here: \""
            ]
          },
          "metadata": {},
          "execution_count": 56
        }
      ]
    },
    {
      "cell_type": "markdown",
      "metadata": {
        "id": "fdsgfOxAFI5b"
      },
      "source": [
        "II. Removing all irrelevant characters (Numbers and Punctuation)\n",
        "\n",
        "Punctuation is basically the set of symbols [!”#$%&’()*+,-./:;<=>?@[\\]^_`{|}~]:"
      ]
    },
    {
      "cell_type": "code",
      "metadata": {
        "colab": {
          "base_uri": "https://localhost:8080/",
          "height": 53
        },
        "id": "SCgUm4S4E6MR",
        "outputId": "64976c16-4607-4740-94e3-d68f80cfeca9"
      },
      "source": [
        "def clean_non_alphanumeric(text):\n",
        "  return re.sub('[^a-zA-Z]', ' ', text)\n",
        "\n",
        "dataset['CleanReview'] = dataset['CleanReview'].apply(clean_non_alphanumeric)\n",
        "\n",
        "dataset['CleanReview'].iloc[2430]"
      ],
      "execution_count": 57,
      "outputs": [
        {
          "output_type": "execute_result",
          "data": {
            "application/vnd.google.colaboratory.intrinsic+json": {
              "type": "string"
            },
            "text/plain": [
              "'What a steal at       This phone definitely holds its own against the      Flagship phones View some sample pictures from the rear camera  You can see daylight pictures are nice but low light pictures are noisy Pros Price and valueGreat screenLoud speakersLooks very niceCons Camera doesn t hold up in low light situationsNo wireless chargingOccasional lag due to mid end processorSlippery phoneFind my video review here  '"
            ]
          },
          "metadata": {},
          "execution_count": 57
        }
      ]
    },
    {
      "cell_type": "markdown",
      "metadata": {
        "id": "eKlJbkN3ISg6"
      },
      "source": [
        "III. Convert all characters into lowercase\n",
        "\n",
        "All words changes into lower case or uppercase to avoid the duplication. Because “Phone” and “phone” will be considered as 2 separate words if this step is not done."
      ]
    },
    {
      "cell_type": "code",
      "metadata": {
        "colab": {
          "base_uri": "https://localhost:8080/",
          "height": 53
        },
        "id": "c7RuFRj2FMl7",
        "outputId": "64edc7d1-bf1a-432f-8de1-a1e3fdd0e1b7"
      },
      "source": [
        "def toLowercase(text):\n",
        "  return str(text).lower()\n",
        "\n",
        "\n",
        "dataset['CleanReview'] = dataset['CleanReview'].apply(toLowercase)\n",
        "\n",
        "dataset['CleanReview'].iloc[2430]"
      ],
      "execution_count": 61,
      "outputs": [
        {
          "output_type": "execute_result",
          "data": {
            "application/vnd.google.colaboratory.intrinsic+json": {
              "type": "string"
            },
            "text/plain": [
              "'what a steal at       this phone definitely holds its own against the      flagship phones view some sample pictures from the rear camera  you can see daylight pictures are nice but low light pictures are noisy pros price and valuegreat screenloud speakerslooks very nicecons camera doesn t hold up in low light situationsno wireless chargingoccasional lag due to mid end processorslippery phonefind my video review here  '"
            ]
          },
          "metadata": {},
          "execution_count": 61
        }
      ]
    },
    {
      "cell_type": "markdown",
      "metadata": {
        "id": "x403stlHJoo4"
      },
      "source": [
        "IV. Tokenization\n",
        "\n",
        "Tokenization is to split the text into smaller pieces called tokens. Words, numbers, punctuation marks, and others can be considered as tokens. We will use Natural language tool kit (NLTK) package for tokenization."
      ]
    },
    {
      "cell_type": "code",
      "metadata": {
        "colab": {
          "base_uri": "https://localhost:8080/"
        },
        "id": "tjeblHpdOTr2",
        "outputId": "1969d528-496d-4d13-8ee9-0aec22375e9d"
      },
      "source": [
        "import nltk\n",
        "nltk.download('punkt')\n",
        "from nltk.tokenize import word_tokenize\n",
        "\n",
        "def clean_tokenize(text):\n",
        "  return word_tokenize(text)\n",
        "\n",
        "dataset['CleanReview'] = dataset['CleanReview'].apply(clean_tokenize)\n",
        "\n",
        "dataset['CleanReview'].iloc[2430]"
      ],
      "execution_count": 63,
      "outputs": [
        {
          "output_type": "stream",
          "name": "stdout",
          "text": [
            "[nltk_data] Downloading package punkt to /root/nltk_data...\n",
            "[nltk_data]   Unzipping tokenizers/punkt.zip.\n"
          ]
        },
        {
          "output_type": "execute_result",
          "data": {
            "text/plain": [
              "['what',\n",
              " 'a',\n",
              " 'steal',\n",
              " 'at',\n",
              " 'this',\n",
              " 'phone',\n",
              " 'definitely',\n",
              " 'holds',\n",
              " 'its',\n",
              " 'own',\n",
              " 'against',\n",
              " 'the',\n",
              " 'flagship',\n",
              " 'phones',\n",
              " 'view',\n",
              " 'some',\n",
              " 'sample',\n",
              " 'pictures',\n",
              " 'from',\n",
              " 'the',\n",
              " 'rear',\n",
              " 'camera',\n",
              " 'you',\n",
              " 'can',\n",
              " 'see',\n",
              " 'daylight',\n",
              " 'pictures',\n",
              " 'are',\n",
              " 'nice',\n",
              " 'but',\n",
              " 'low',\n",
              " 'light',\n",
              " 'pictures',\n",
              " 'are',\n",
              " 'noisy',\n",
              " 'pros',\n",
              " 'price',\n",
              " 'and',\n",
              " 'valuegreat',\n",
              " 'screenloud',\n",
              " 'speakerslooks',\n",
              " 'very',\n",
              " 'nicecons',\n",
              " 'camera',\n",
              " 'doesn',\n",
              " 't',\n",
              " 'hold',\n",
              " 'up',\n",
              " 'in',\n",
              " 'low',\n",
              " 'light',\n",
              " 'situationsno',\n",
              " 'wireless',\n",
              " 'chargingoccasional',\n",
              " 'lag',\n",
              " 'due',\n",
              " 'to',\n",
              " 'mid',\n",
              " 'end',\n",
              " 'processorslippery',\n",
              " 'phonefind',\n",
              " 'my',\n",
              " 'video',\n",
              " 'review',\n",
              " 'here']"
            ]
          },
          "metadata": {},
          "execution_count": 63
        }
      ]
    },
    {
      "cell_type": "code",
      "metadata": {
        "colab": {
          "base_uri": "https://localhost:8080/",
          "height": 294
        },
        "id": "bMSVl-5GPOVu",
        "outputId": "9bb62216-0b62-4853-cb98-b210dc1f74f1"
      },
      "source": [
        "# check the result\n",
        "dataset.head(8)"
      ],
      "execution_count": 64,
      "outputs": [
        {
          "output_type": "execute_result",
          "data": {
            "text/html": [
              "<div>\n",
              "<style scoped>\n",
              "    .dataframe tbody tr th:only-of-type {\n",
              "        vertical-align: middle;\n",
              "    }\n",
              "\n",
              "    .dataframe tbody tr th {\n",
              "        vertical-align: top;\n",
              "    }\n",
              "\n",
              "    .dataframe thead th {\n",
              "        text-align: right;\n",
              "    }\n",
              "</style>\n",
              "<table border=\"1\" class=\"dataframe\">\n",
              "  <thead>\n",
              "    <tr style=\"text-align: right;\">\n",
              "      <th></th>\n",
              "      <th>Rating</th>\n",
              "      <th>Reviews</th>\n",
              "      <th>Label</th>\n",
              "      <th>CleanReview</th>\n",
              "    </tr>\n",
              "  </thead>\n",
              "  <tbody>\n",
              "    <tr>\n",
              "      <th>0</th>\n",
              "      <td>5</td>\n",
              "      <td>I feel so LUCKY to have found this used (phone...</td>\n",
              "      <td>Positive</td>\n",
              "      <td>[i, feel, so, lucky, to, have, found, this, us...</td>\n",
              "    </tr>\n",
              "    <tr>\n",
              "      <th>1</th>\n",
              "      <td>4</td>\n",
              "      <td>nice phone, nice up grade from my pantach revu...</td>\n",
              "      <td>Positive</td>\n",
              "      <td>[nice, phone, nice, up, grade, from, my, panta...</td>\n",
              "    </tr>\n",
              "    <tr>\n",
              "      <th>2</th>\n",
              "      <td>5</td>\n",
              "      <td>Very pleased</td>\n",
              "      <td>Positive</td>\n",
              "      <td>[very, pleased]</td>\n",
              "    </tr>\n",
              "    <tr>\n",
              "      <th>3</th>\n",
              "      <td>4</td>\n",
              "      <td>It works good but it goes slow sometimes but i...</td>\n",
              "      <td>Positive</td>\n",
              "      <td>[it, works, good, but, it, goes, slow, sometim...</td>\n",
              "    </tr>\n",
              "    <tr>\n",
              "      <th>4</th>\n",
              "      <td>4</td>\n",
              "      <td>Great phone to replace my lost phone. The only...</td>\n",
              "      <td>Positive</td>\n",
              "      <td>[great, phone, to, replace, my, lost, phone, t...</td>\n",
              "    </tr>\n",
              "    <tr>\n",
              "      <th>5</th>\n",
              "      <td>1</td>\n",
              "      <td>I already had a phone with problems... I know ...</td>\n",
              "      <td>Negative</td>\n",
              "      <td>[i, already, had, a, phone, with, problems, i,...</td>\n",
              "    </tr>\n",
              "    <tr>\n",
              "      <th>6</th>\n",
              "      <td>2</td>\n",
              "      <td>The charging port was loose. I got that solder...</td>\n",
              "      <td>Negative</td>\n",
              "      <td>[the, charging, port, was, loose, i, got, that...</td>\n",
              "    </tr>\n",
              "    <tr>\n",
              "      <th>7</th>\n",
              "      <td>2</td>\n",
              "      <td>Phone looks good but wouldn't stay charged, ha...</td>\n",
              "      <td>Negative</td>\n",
              "      <td>[phone, looks, good, but, wouldn, t, stay, cha...</td>\n",
              "    </tr>\n",
              "  </tbody>\n",
              "</table>\n",
              "</div>"
            ],
            "text/plain": [
              "   Rating  ...                                        CleanReview\n",
              "0       5  ...  [i, feel, so, lucky, to, have, found, this, us...\n",
              "1       4  ...  [nice, phone, nice, up, grade, from, my, panta...\n",
              "2       5  ...                                    [very, pleased]\n",
              "3       4  ...  [it, works, good, but, it, goes, slow, sometim...\n",
              "4       4  ...  [great, phone, to, replace, my, lost, phone, t...\n",
              "5       1  ...  [i, already, had, a, phone, with, problems, i,...\n",
              "6       2  ...  [the, charging, port, was, loose, i, got, that...\n",
              "7       2  ...  [phone, looks, good, but, wouldn, t, stay, cha...\n",
              "\n",
              "[8 rows x 4 columns]"
            ]
          },
          "metadata": {},
          "execution_count": 64
        }
      ]
    },
    {
      "cell_type": "markdown",
      "metadata": {
        "id": "b7ZtEtx9PcTr"
      },
      "source": [
        "V. Removing Stopwords \n",
        "\n",
        "Stopwords are the most common words in a language like “the”, “a”, “me”, “is”, “to”, “all”,. These words do not carry important meaning and are usually removed from texts. You can remove stopwords with the Natural Language Toolkit (nltk). "
      ]
    },
    {
      "cell_type": "code",
      "metadata": {
        "colab": {
          "base_uri": "https://localhost:8080/"
        },
        "id": "g0oNOgz4Pqkb",
        "outputId": "ed13f51b-0526-45ef-86fd-2b12298b090d"
      },
      "source": [
        "nltk.download('stopwords')\n",
        "from nltk.corpus import stopwords\n",
        "\n",
        "stopwords_english = stopwords.words('english')\n",
        "stopwords_english"
      ],
      "execution_count": 67,
      "outputs": [
        {
          "output_type": "stream",
          "name": "stdout",
          "text": [
            "[nltk_data] Downloading package stopwords to /root/nltk_data...\n",
            "[nltk_data]   Unzipping corpora/stopwords.zip.\n"
          ]
        },
        {
          "output_type": "execute_result",
          "data": {
            "text/plain": [
              "['i',\n",
              " 'me',\n",
              " 'my',\n",
              " 'myself',\n",
              " 'we',\n",
              " 'our',\n",
              " 'ours',\n",
              " 'ourselves',\n",
              " 'you',\n",
              " \"you're\",\n",
              " \"you've\",\n",
              " \"you'll\",\n",
              " \"you'd\",\n",
              " 'your',\n",
              " 'yours',\n",
              " 'yourself',\n",
              " 'yourselves',\n",
              " 'he',\n",
              " 'him',\n",
              " 'his',\n",
              " 'himself',\n",
              " 'she',\n",
              " \"she's\",\n",
              " 'her',\n",
              " 'hers',\n",
              " 'herself',\n",
              " 'it',\n",
              " \"it's\",\n",
              " 'its',\n",
              " 'itself',\n",
              " 'they',\n",
              " 'them',\n",
              " 'their',\n",
              " 'theirs',\n",
              " 'themselves',\n",
              " 'what',\n",
              " 'which',\n",
              " 'who',\n",
              " 'whom',\n",
              " 'this',\n",
              " 'that',\n",
              " \"that'll\",\n",
              " 'these',\n",
              " 'those',\n",
              " 'am',\n",
              " 'is',\n",
              " 'are',\n",
              " 'was',\n",
              " 'were',\n",
              " 'be',\n",
              " 'been',\n",
              " 'being',\n",
              " 'have',\n",
              " 'has',\n",
              " 'had',\n",
              " 'having',\n",
              " 'do',\n",
              " 'does',\n",
              " 'did',\n",
              " 'doing',\n",
              " 'a',\n",
              " 'an',\n",
              " 'the',\n",
              " 'and',\n",
              " 'but',\n",
              " 'if',\n",
              " 'or',\n",
              " 'because',\n",
              " 'as',\n",
              " 'until',\n",
              " 'while',\n",
              " 'of',\n",
              " 'at',\n",
              " 'by',\n",
              " 'for',\n",
              " 'with',\n",
              " 'about',\n",
              " 'against',\n",
              " 'between',\n",
              " 'into',\n",
              " 'through',\n",
              " 'during',\n",
              " 'before',\n",
              " 'after',\n",
              " 'above',\n",
              " 'below',\n",
              " 'to',\n",
              " 'from',\n",
              " 'up',\n",
              " 'down',\n",
              " 'in',\n",
              " 'out',\n",
              " 'on',\n",
              " 'off',\n",
              " 'over',\n",
              " 'under',\n",
              " 'again',\n",
              " 'further',\n",
              " 'then',\n",
              " 'once',\n",
              " 'here',\n",
              " 'there',\n",
              " 'when',\n",
              " 'where',\n",
              " 'why',\n",
              " 'how',\n",
              " 'all',\n",
              " 'any',\n",
              " 'both',\n",
              " 'each',\n",
              " 'few',\n",
              " 'more',\n",
              " 'most',\n",
              " 'other',\n",
              " 'some',\n",
              " 'such',\n",
              " 'no',\n",
              " 'nor',\n",
              " 'not',\n",
              " 'only',\n",
              " 'own',\n",
              " 'same',\n",
              " 'so',\n",
              " 'than',\n",
              " 'too',\n",
              " 'very',\n",
              " 's',\n",
              " 't',\n",
              " 'can',\n",
              " 'will',\n",
              " 'just',\n",
              " 'don',\n",
              " \"don't\",\n",
              " 'should',\n",
              " \"should've\",\n",
              " 'now',\n",
              " 'd',\n",
              " 'll',\n",
              " 'm',\n",
              " 'o',\n",
              " 're',\n",
              " 've',\n",
              " 'y',\n",
              " 'ain',\n",
              " 'aren',\n",
              " \"aren't\",\n",
              " 'couldn',\n",
              " \"couldn't\",\n",
              " 'didn',\n",
              " \"didn't\",\n",
              " 'doesn',\n",
              " \"doesn't\",\n",
              " 'hadn',\n",
              " \"hadn't\",\n",
              " 'hasn',\n",
              " \"hasn't\",\n",
              " 'haven',\n",
              " \"haven't\",\n",
              " 'isn',\n",
              " \"isn't\",\n",
              " 'ma',\n",
              " 'mightn',\n",
              " \"mightn't\",\n",
              " 'mustn',\n",
              " \"mustn't\",\n",
              " 'needn',\n",
              " \"needn't\",\n",
              " 'shan',\n",
              " \"shan't\",\n",
              " 'shouldn',\n",
              " \"shouldn't\",\n",
              " 'wasn',\n",
              " \"wasn't\",\n",
              " 'weren',\n",
              " \"weren't\",\n",
              " 'won',\n",
              " \"won't\",\n",
              " 'wouldn',\n",
              " \"wouldn't\"]"
            ]
          },
          "metadata": {},
          "execution_count": 67
        }
      ]
    },
    {
      "cell_type": "code",
      "metadata": {
        "colab": {
          "base_uri": "https://localhost:8080/"
        },
        "id": "7PcOIUXGQTP9",
        "outputId": "f17a9bde-dee1-431a-e468-b7c2c991f01b"
      },
      "source": [
        "def clean_stopwords(tokens):\n",
        "  return [item for item in tokens if item not in stopwords_english]\n",
        "\n",
        "\n",
        "dataset['CleanReview'] = dataset['CleanReview'].apply(clean_stopwords)\n",
        "\n",
        "# compare with the printout above\n",
        "dataset['CleanReview'].iloc[2430]"
      ],
      "execution_count": 68,
      "outputs": [
        {
          "output_type": "execute_result",
          "data": {
            "text/plain": [
              "['steal',\n",
              " 'phone',\n",
              " 'definitely',\n",
              " 'holds',\n",
              " 'flagship',\n",
              " 'phones',\n",
              " 'view',\n",
              " 'sample',\n",
              " 'pictures',\n",
              " 'rear',\n",
              " 'camera',\n",
              " 'see',\n",
              " 'daylight',\n",
              " 'pictures',\n",
              " 'nice',\n",
              " 'low',\n",
              " 'light',\n",
              " 'pictures',\n",
              " 'noisy',\n",
              " 'pros',\n",
              " 'price',\n",
              " 'valuegreat',\n",
              " 'screenloud',\n",
              " 'speakerslooks',\n",
              " 'nicecons',\n",
              " 'camera',\n",
              " 'hold',\n",
              " 'low',\n",
              " 'light',\n",
              " 'situationsno',\n",
              " 'wireless',\n",
              " 'chargingoccasional',\n",
              " 'lag',\n",
              " 'due',\n",
              " 'mid',\n",
              " 'end',\n",
              " 'processorslippery',\n",
              " 'phonefind',\n",
              " 'video',\n",
              " 'review']"
            ]
          },
          "metadata": {},
          "execution_count": 68
        }
      ]
    },
    {
      "cell_type": "markdown",
      "metadata": {
        "id": "mGkpgKg4Rbda"
      },
      "source": [
        "VI. Stemming and Lemmatization \n",
        "\n",
        "The aim of stemming and lemmatization is similar: to reduce the inflectional forms of each word into a common base or root. Both process are different, let’s see what is stemming and lemmatization.\n",
        "\n",
        "Stemming usually refers to a crude process that chops off the ends of words in the hope of achieving this goal correctly most of the time, and often includes the removal of derivational units (the obtained element is known as the stem).\n",
        "\n",
        "Lemmatization consists in doing things properly with the use of a vocabulary and morphological analysis of words, to return the base or dictionary form of a word, which is known as the lemma.\n",
        "\n",
        "For example, the sentence “I saw an amazing thing” will be change to:\n",
        "\n",
        "STEM: I s an amazing thing\n",
        "LEMMATIZATION: I see an amazing thing\n",
        "\n",
        "If we stem the sentence “I saw an amazing thing ”we would obtain ‘s’ instead of ‘saw’, but if we lemmatize it we would obtain ‘see’, which is the lemma.\n",
        "\n",
        "Both techniques could remove important information but also help us to normalize our corpus (although lemmatization is the one that is usually applied). Actually stemming create some words, that may not have any meaning, so we usually use lemmatization."
      ]
    },
    {
      "cell_type": "code",
      "metadata": {
        "colab": {
          "base_uri": "https://localhost:8080/"
        },
        "id": "FihhGJvsRLDQ",
        "outputId": "77ec1f47-ab04-4dd8-e099-9b3113a3c613"
      },
      "source": [
        "nltk.download('wordnet')\n",
        "from nltk.stem import PorterStemmer\n",
        "from nltk.stem import WordNetLemmatizer\n",
        "\n",
        "stemmer = PorterStemmer()\n",
        "lemmatizer = WordNetLemmatizer()\n",
        "\n",
        "def clean_stem(tokens):\n",
        "  return [stemmer.stem(k) for k in tokens]\n",
        "\n",
        "def clean_lemma(tokens):\n",
        "  return [lemmatizer.lemmatize(word=k, pos='v') for k in tokens]\n",
        "\n",
        "\n",
        "\n",
        "dataset['stemReview'] = dataset['CleanReview'].apply(clean_stem)\n",
        "dataset['lemmaReview'] = dataset['CleanReview'].apply(clean_lemma)\n",
        "\n",
        "print('After stem ......')\n",
        "print(dataset['stemReview'].iloc[2430])\n",
        "print('After lemmatize...')\n",
        "print(dataset['lemmaReview'].iloc[2430])"
      ],
      "execution_count": 70,
      "outputs": [
        {
          "output_type": "stream",
          "name": "stdout",
          "text": [
            "[nltk_data] Downloading package wordnet to /root/nltk_data...\n",
            "[nltk_data]   Unzipping corpora/wordnet.zip.\n",
            "After stem ......\n",
            "['steal', 'phone', 'definit', 'hold', 'flagship', 'phone', 'view', 'sampl', 'pictur', 'rear', 'camera', 'see', 'daylight', 'pictur', 'nice', 'low', 'light', 'pictur', 'noisi', 'pro', 'price', 'valuegreat', 'screenloud', 'speakerslook', 'nicecon', 'camera', 'hold', 'low', 'light', 'situationsno', 'wireless', 'chargingoccasion', 'lag', 'due', 'mid', 'end', 'processorslipperi', 'phonefind', 'video', 'review']\n",
            "After lemmatize...\n",
            "['steal', 'phone', 'definitely', 'hold', 'flagship', 'phone', 'view', 'sample', 'picture', 'rear', 'camera', 'see', 'daylight', 'picture', 'nice', 'low', 'light', 'picture', 'noisy', 'pros', 'price', 'valuegreat', 'screenloud', 'speakerslooks', 'nicecons', 'camera', 'hold', 'low', 'light', 'situationsno', 'wireless', 'chargingoccasional', 'lag', 'due', 'mid', 'end', 'processorslippery', 'phonefind', 'video', 'review']\n"
          ]
        }
      ]
    },
    {
      "cell_type": "markdown",
      "metadata": {
        "id": "TxUMKwNjWyPc"
      },
      "source": [
        "VII. Remove the words having length <= 2\n",
        "\n",
        "After going through the above process, it is likely to remain some kind of noise in our corpus. Because the very-short tokens is likely to be noise, we remove all tokens whose length <=2"
      ]
    },
    {
      "cell_type": "code",
      "metadata": {
        "id": "vS0nVuDoXeAB"
      },
      "source": [
        "def remove_short_word(tokens):\n",
        "  return [t for t in tokens if len(t)>2]\n",
        "\n",
        "dataset['lemmaReview'] = dataset['lemmaReview'].apply(remove_short_word)"
      ],
      "execution_count": 74,
      "outputs": []
    },
    {
      "cell_type": "markdown",
      "metadata": {
        "id": "AlWZhLEuYXmE"
      },
      "source": [
        "VII. Convert the list of tokens into back to the string "
      ]
    },
    {
      "cell_type": "code",
      "metadata": {
        "colab": {
          "base_uri": "https://localhost:8080/"
        },
        "id": "CNfiJ3CrYHcN",
        "outputId": "a0b819b0-aa5b-4034-f37c-02c5bcf6777d"
      },
      "source": [
        "def back_to_string(tokens):\n",
        "  return ' '.join(tokens)\n",
        "\n",
        "dataset['CleanReview'] = dataset['lemmaReview'].apply(back_to_string)\n",
        "\n",
        "print('Before preprocessing ......')\n",
        "print(dataset['Reviews'].iloc[2430])\n",
        "print('After preprocessing ......')\n",
        "print(dataset['CleanReview'].iloc[2430])"
      ],
      "execution_count": 76,
      "outputs": [
        {
          "output_type": "stream",
          "name": "stdout",
          "text": [
            "Before preprocessing ......\n",
            "What a steal at $250! This phone definitely holds its own against the 2015 Flagship phones.View some sample pictures from the rear camera. You can see daylight pictures are nice but low-light pictures are noisy.Pros:Price and valueGreat screenLoud speakersLooks very niceCons:Camera doesn't hold up in low light situationsNo wireless chargingOccasional lag due to mid end processorSlippery phoneFind my video review here: https://youtu.be/JU-dDjKi4Ig\n",
            "After preprocessing ......\n",
            "steal phone definitely hold flagship phone view sample picture rear camera see daylight picture nice low light picture noisy pros price valuegreat screenloud speakerslooks nicecons camera hold low light situationsno wireless chargingoccasional lag due mid end processorslippery phonefind video review\n"
          ]
        }
      ]
    },
    {
      "cell_type": "code",
      "metadata": {
        "colab": {
          "base_uri": "https://localhost:8080/",
          "height": 141
        },
        "id": "mphCoc8kZW8x",
        "outputId": "7604923f-0982-48b3-b3c5-d2f8a5e62c05"
      },
      "source": [
        "dataset.head(3)"
      ],
      "execution_count": 77,
      "outputs": [
        {
          "output_type": "execute_result",
          "data": {
            "text/html": [
              "<div>\n",
              "<style scoped>\n",
              "    .dataframe tbody tr th:only-of-type {\n",
              "        vertical-align: middle;\n",
              "    }\n",
              "\n",
              "    .dataframe tbody tr th {\n",
              "        vertical-align: top;\n",
              "    }\n",
              "\n",
              "    .dataframe thead th {\n",
              "        text-align: right;\n",
              "    }\n",
              "</style>\n",
              "<table border=\"1\" class=\"dataframe\">\n",
              "  <thead>\n",
              "    <tr style=\"text-align: right;\">\n",
              "      <th></th>\n",
              "      <th>Rating</th>\n",
              "      <th>Reviews</th>\n",
              "      <th>Label</th>\n",
              "      <th>CleanReview</th>\n",
              "      <th>stemReview</th>\n",
              "      <th>lemmaReview</th>\n",
              "    </tr>\n",
              "  </thead>\n",
              "  <tbody>\n",
              "    <tr>\n",
              "      <th>0</th>\n",
              "      <td>5</td>\n",
              "      <td>I feel so LUCKY to have found this used (phone...</td>\n",
              "      <td>Positive</td>\n",
              "      <td>feel lucky find use phone use hard phone line ...</td>\n",
              "      <td>[feel, lucki, found, use, phone, us, use, hard...</td>\n",
              "      <td>[feel, lucky, find, use, phone, use, hard, pho...</td>\n",
              "    </tr>\n",
              "    <tr>\n",
              "      <th>1</th>\n",
              "      <td>4</td>\n",
              "      <td>nice phone, nice up grade from my pantach revu...</td>\n",
              "      <td>Positive</td>\n",
              "      <td>nice phone nice grade pantach revue clean set ...</td>\n",
              "      <td>[nice, phone, nice, grade, pantach, revu, clea...</td>\n",
              "      <td>[nice, phone, nice, grade, pantach, revue, cle...</td>\n",
              "    </tr>\n",
              "    <tr>\n",
              "      <th>2</th>\n",
              "      <td>5</td>\n",
              "      <td>Very pleased</td>\n",
              "      <td>Positive</td>\n",
              "      <td>please</td>\n",
              "      <td>[pleas]</td>\n",
              "      <td>[please]</td>\n",
              "    </tr>\n",
              "  </tbody>\n",
              "</table>\n",
              "</div>"
            ],
            "text/plain": [
              "   Rating  ...                                        lemmaReview\n",
              "0       5  ...  [feel, lucky, find, use, phone, use, hard, pho...\n",
              "1       4  ...  [nice, phone, nice, grade, pantach, revue, cle...\n",
              "2       5  ...                                           [please]\n",
              "\n",
              "[3 rows x 6 columns]"
            ]
          },
          "metadata": {},
          "execution_count": 77
        }
      ]
    },
    {
      "cell_type": "markdown",
      "metadata": {
        "id": "6P2WtsQkZjl-"
      },
      "source": [
        "Wrap all steps into a single function"
      ]
    },
    {
      "cell_type": "code",
      "metadata": {
        "colab": {
          "base_uri": "https://localhost:8080/",
          "height": 1000
        },
        "id": "qURs4TqxZgmA",
        "outputId": "90657ced-ace4-4ca1-bf02-580bf466e663"
      },
      "source": [
        "import re\n",
        "import numpy as np\n",
        "import pandas as pd\n",
        "import matplotlib.pyplot as plt\n",
        "import seaborn as sns\n",
        "import nltk\n",
        "nltk.download('popular')\n",
        "from nltk.tokenize import word_tokenize\n",
        "from nltk.corpus import stopwords\n",
        "from nltk.stem import PorterStemmer\n",
        "from nltk.stem import WordNetLemmatizer\n",
        "\n",
        "\n",
        "def text_preprossing(raw_text):\n",
        "    text = re.sub(r'http\\S+', '', raw_text)  # Remove URL\n",
        "    text = re.sub('[^a-zA-Z]', ' ', text)  # Remove Numbers and Punctuation\n",
        "    text = str(text).lower()  # Convert to lowercase\n",
        "    text = word_tokenize(text) # Tokenize\n",
        "    text = [t for t in text if t not in stopwords_english]  # Remove stop words\n",
        "    text = [lemmatizer.lemmatize(word=w, pos='v') for w in text]  # Lemmatization\n",
        "    text = [t for t in text if len(t) > 2]  # Remove the words whose length <=2\n",
        "    clean_text = ' '.join(text)  # Convert the tokens back to string\n",
        "    return clean_text\n",
        "\n",
        "dataset['CleanReview'] = dataset['Reviews'].apply(text_preprossing)\n",
        "\n",
        "dataset.head(5)"
      ],
      "execution_count": 80,
      "outputs": [
        {
          "output_type": "stream",
          "name": "stdout",
          "text": [
            "[nltk_data] Downloading collection 'popular'\n",
            "[nltk_data]    | \n",
            "[nltk_data]    | Downloading package cmudict to /root/nltk_data...\n",
            "[nltk_data]    |   Package cmudict is already up-to-date!\n",
            "[nltk_data]    | Downloading package gazetteers to /root/nltk_data...\n",
            "[nltk_data]    |   Package gazetteers is already up-to-date!\n",
            "[nltk_data]    | Downloading package genesis to /root/nltk_data...\n",
            "[nltk_data]    |   Package genesis is already up-to-date!\n",
            "[nltk_data]    | Downloading package gutenberg to /root/nltk_data...\n",
            "[nltk_data]    |   Package gutenberg is already up-to-date!\n",
            "[nltk_data]    | Downloading package inaugural to /root/nltk_data...\n",
            "[nltk_data]    |   Package inaugural is already up-to-date!\n",
            "[nltk_data]    | Downloading package movie_reviews to\n",
            "[nltk_data]    |     /root/nltk_data...\n",
            "[nltk_data]    |   Package movie_reviews is already up-to-date!\n",
            "[nltk_data]    | Downloading package names to /root/nltk_data...\n",
            "[nltk_data]    |   Package names is already up-to-date!\n",
            "[nltk_data]    | Downloading package shakespeare to /root/nltk_data...\n",
            "[nltk_data]    |   Package shakespeare is already up-to-date!\n",
            "[nltk_data]    | Downloading package stopwords to /root/nltk_data...\n",
            "[nltk_data]    |   Package stopwords is already up-to-date!\n",
            "[nltk_data]    | Downloading package treebank to /root/nltk_data...\n",
            "[nltk_data]    |   Package treebank is already up-to-date!\n",
            "[nltk_data]    | Downloading package twitter_samples to\n",
            "[nltk_data]    |     /root/nltk_data...\n",
            "[nltk_data]    |   Package twitter_samples is already up-to-date!\n",
            "[nltk_data]    | Downloading package omw to /root/nltk_data...\n",
            "[nltk_data]    |   Package omw is already up-to-date!\n",
            "[nltk_data]    | Downloading package wordnet to /root/nltk_data...\n",
            "[nltk_data]    |   Package wordnet is already up-to-date!\n",
            "[nltk_data]    | Downloading package wordnet31 to /root/nltk_data...\n",
            "[nltk_data]    |   Package wordnet31 is already up-to-date!\n",
            "[nltk_data]    | Downloading package wordnet_ic to /root/nltk_data...\n",
            "[nltk_data]    |   Package wordnet_ic is already up-to-date!\n",
            "[nltk_data]    | Downloading package words to /root/nltk_data...\n",
            "[nltk_data]    |   Package words is already up-to-date!\n",
            "[nltk_data]    | Downloading package maxent_ne_chunker to\n",
            "[nltk_data]    |     /root/nltk_data...\n",
            "[nltk_data]    |   Package maxent_ne_chunker is already up-to-date!\n",
            "[nltk_data]    | Downloading package punkt to /root/nltk_data...\n",
            "[nltk_data]    |   Package punkt is already up-to-date!\n",
            "[nltk_data]    | Downloading package snowball_data to\n",
            "[nltk_data]    |     /root/nltk_data...\n",
            "[nltk_data]    |   Package snowball_data is already up-to-date!\n",
            "[nltk_data]    | Downloading package averaged_perceptron_tagger to\n",
            "[nltk_data]    |     /root/nltk_data...\n",
            "[nltk_data]    |   Package averaged_perceptron_tagger is already up-\n",
            "[nltk_data]    |       to-date!\n",
            "[nltk_data]    | \n",
            "[nltk_data]  Done downloading collection popular\n"
          ]
        },
        {
          "output_type": "execute_result",
          "data": {
            "text/html": [
              "<div>\n",
              "<style scoped>\n",
              "    .dataframe tbody tr th:only-of-type {\n",
              "        vertical-align: middle;\n",
              "    }\n",
              "\n",
              "    .dataframe tbody tr th {\n",
              "        vertical-align: top;\n",
              "    }\n",
              "\n",
              "    .dataframe thead th {\n",
              "        text-align: right;\n",
              "    }\n",
              "</style>\n",
              "<table border=\"1\" class=\"dataframe\">\n",
              "  <thead>\n",
              "    <tr style=\"text-align: right;\">\n",
              "      <th></th>\n",
              "      <th>Rating</th>\n",
              "      <th>Reviews</th>\n",
              "      <th>Label</th>\n",
              "      <th>CleanReview</th>\n",
              "      <th>stemReview</th>\n",
              "      <th>lemmaReview</th>\n",
              "    </tr>\n",
              "  </thead>\n",
              "  <tbody>\n",
              "    <tr>\n",
              "      <th>0</th>\n",
              "      <td>5</td>\n",
              "      <td>I feel so LUCKY to have found this used (phone...</td>\n",
              "      <td>Positive</td>\n",
              "      <td>feel lucky find use phone use hard phone line ...</td>\n",
              "      <td>[feel, lucki, found, use, phone, us, use, hard...</td>\n",
              "      <td>[feel, lucky, find, use, phone, use, hard, pho...</td>\n",
              "    </tr>\n",
              "    <tr>\n",
              "      <th>1</th>\n",
              "      <td>4</td>\n",
              "      <td>nice phone, nice up grade from my pantach revu...</td>\n",
              "      <td>Positive</td>\n",
              "      <td>nice phone nice grade pantach revue clean set ...</td>\n",
              "      <td>[nice, phone, nice, grade, pantach, revu, clea...</td>\n",
              "      <td>[nice, phone, nice, grade, pantach, revue, cle...</td>\n",
              "    </tr>\n",
              "    <tr>\n",
              "      <th>2</th>\n",
              "      <td>5</td>\n",
              "      <td>Very pleased</td>\n",
              "      <td>Positive</td>\n",
              "      <td>please</td>\n",
              "      <td>[pleas]</td>\n",
              "      <td>[please]</td>\n",
              "    </tr>\n",
              "    <tr>\n",
              "      <th>3</th>\n",
              "      <td>4</td>\n",
              "      <td>It works good but it goes slow sometimes but i...</td>\n",
              "      <td>Positive</td>\n",
              "      <td>work good slow sometimes good phone love</td>\n",
              "      <td>[work, good, goe, slow, sometim, good, phone, ...</td>\n",
              "      <td>[work, good, slow, sometimes, good, phone, love]</td>\n",
              "    </tr>\n",
              "    <tr>\n",
              "      <th>4</th>\n",
              "      <td>4</td>\n",
              "      <td>Great phone to replace my lost phone. The only...</td>\n",
              "      <td>Positive</td>\n",
              "      <td>great phone replace lose phone thing volume bu...</td>\n",
              "      <td>[great, phone, replac, lost, phone, thing, vol...</td>\n",
              "      <td>[great, phone, replace, lose, phone, thing, vo...</td>\n",
              "    </tr>\n",
              "  </tbody>\n",
              "</table>\n",
              "</div>"
            ],
            "text/plain": [
              "   Rating  ...                                        lemmaReview\n",
              "0       5  ...  [feel, lucky, find, use, phone, use, hard, pho...\n",
              "1       4  ...  [nice, phone, nice, grade, pantach, revue, cle...\n",
              "2       5  ...                                           [please]\n",
              "3       4  ...   [work, good, slow, sometimes, good, phone, love]\n",
              "4       4  ...  [great, phone, replace, lose, phone, thing, vo...\n",
              "\n",
              "[5 rows x 6 columns]"
            ]
          },
          "metadata": {},
          "execution_count": 80
        }
      ]
    },
    {
      "cell_type": "markdown",
      "metadata": {
        "id": "DFCkhvqed11m"
      },
      "source": [
        "# Text Visualization\n",
        "\n",
        "After preprocessing, we need to observe our corpus to determine if it is ready for encode to numeric vector.  We can visualize the tokens in corpus label wise by splitting the dataset by labels"
      ]
    },
    {
      "cell_type": "code",
      "metadata": {
        "id": "u_-qMJoLeUdD"
      },
      "source": [
        "Positive = dataset[dataset.Label=='Positive']['CleanReview']\n",
        "Neutral = dataset[dataset.Label=='Neutral']['CleanReview']\n",
        "Negative = dataset[dataset.Label=='Negative']['CleanReview']"
      ],
      "execution_count": 88,
      "outputs": []
    },
    {
      "cell_type": "code",
      "metadata": {
        "colab": {
          "base_uri": "https://localhost:8080/",
          "height": 1000
        },
        "id": "keiRza_oe-wH",
        "outputId": "de1040b1-1f52-4473-85a8-d9458b2986cf"
      },
      "source": [
        "color = ['Accent', 'Paired', 'Pastel1']\n",
        "splitedData = [Positive, Neutral, Negative]\n",
        "\n",
        "for item in range(3):\n",
        "  plt.figure(figsize=(20,10))\n",
        "  pd.Series(' '.join([i for i in splitedData[item]]).split()).value_counts().head(20).plot(kind='bar', colormap=color[item])\n",
        "  plt.show()"
      ],
      "execution_count": 89,
      "outputs": [
        {
          "output_type": "display_data",
          "data": {
            "image/png": "[encoded data removed]",
            "text/plain": [
              "<Figure size 1440x720 with 1 Axes>"
            ]
          },
          "metadata": {
            "needs_background": "light"
          }
        },
        {
          "output_type": "display_data",
          "data": {
            "image/png": "[encoded data removed]",
            "text/plain": [
              "<Figure size 1440x720 with 1 Axes>"
            ]
          },
          "metadata": {
            "needs_background": "light"
          }
        },
        {
          "output_type": "display_data",
          "data": {
            "image/png": "[encoded data removed]",
            "text/plain": [
              "<Figure size 1440x720 with 1 Axes>"
            ]
          },
          "metadata": {
            "needs_background": "light"
          }
        }
      ]
    },
    {
      "cell_type": "markdown",
      "metadata": {
        "id": "u71W_daChHBo"
      },
      "source": [
        "Observation: from the above bar chart, the word ‘phone’ is a common term in all three categories. So if we remove ‘phone’ from the corpus, the following analysis can have better performance.\n",
        "\n",
        "Below, we define a function below to remove a particular word from the dataset"
      ]
    },
    {
      "cell_type": "code",
      "metadata": {
        "colab": {
          "base_uri": "https://localhost:8080/"
        },
        "id": "NsmmI2zXiAwy",
        "outputId": "dc99edc2-7f51-4fb7-e876-7a26bfe500af"
      },
      "source": [
        "def word_remove(text, word='phone'):\n",
        "  return ' '.join([i for i in text.split() if i != word])\n",
        "\n",
        "\n",
        "print(' Before remove phone ......\\n')\n",
        "print(Positive.head(5))\n",
        "\n",
        "# remove the word 'phone', you can also try on the Neutral and the Negative data\n",
        "Positive = Positive.apply(word_remove)\n",
        "\n",
        "print('\\n After remove phone ......\\n')\n",
        "print(Positive.head(5))"
      ],
      "execution_count": 90,
      "outputs": [
        {
          "output_type": "stream",
          "name": "stdout",
          "text": [
            " Before remove phone ......\n",
            "\n",
            "0    feel lucky find use phone use hard phone line ...\n",
            "1    nice phone nice grade pantach revue clean set ...\n",
            "2                                               please\n",
            "3             work good slow sometimes good phone love\n",
            "4    great phone replace lose phone thing volume bu...\n",
            "Name: CleanReview, dtype: object\n",
            "\n",
            " After remove phone ......\n",
            "\n",
            "0    feel lucky find use use hard line someone upgr...\n",
            "1    nice nice grade pantach revue clean set easy s...\n",
            "2                                               please\n",
            "3                   work good slow sometimes good love\n",
            "4    great replace lose thing volume button work st...\n",
            "Name: CleanReview, dtype: object\n"
          ]
        }
      ]
    }
  ]
}